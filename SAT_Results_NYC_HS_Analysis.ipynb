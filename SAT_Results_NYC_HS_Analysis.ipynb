{
  "cells": [
    {
      "attachments": {},
      "cell_type": "markdown",
      "metadata": {
        "id": "gbF71GHptuwV"
      },
      "source": [
        "# SAT Results & NYC High School Directory Analysis\n",
        "\n",
        "The goal of this notebook is to analyze two large csv files using Apache Spark. The datasets used are below:\n",
        "\n",
        "DATASET: Each school is uniquely identified by an DBN code, which should be found on both data sets.\n",
        "\n",
        "SAT_Results.csv\n",
        "* Source: https://nycopendata.socrata.com/Education/SAT-Results/f9bf-2cp4\n",
        "* Description: “The most recent school level results for New York City on the SAT. Results are available at the\n",
        "school level for the graduating seniors of 2012.”\n",
        "\n",
        "DOE_High_School_Directory_2014-2015.csv\n",
        "* Source: https://data.cityofnewyork.us/Education/DOE-High-School-Directory-2014-2015/n3p6-zve2\n",
        "* Description: “Directory of NYC High Schools.”"
      ]
    },
    {
      "attachments": {},
      "cell_type": "markdown",
      "metadata": {},
      "source": [
        "### Tasks:\n",
        "\n",
        "TASK 1:\n",
        "\n",
        "* Compute the average SAT Math score of all high schools with 500 students or more, for\n",
        "each borough of the city. Meaning: what is the average SAT Math score of all high schools with 500 students\n",
        "or more in Manhattan, in Brooklyn, in Queens, in Bronx and in Staten Island. The final result is expected to be a list of tuples borough\n",
        "names as the first elements, and the average scores as the second.\n",
        "* Note 1: since the SAT Results also provide the number of test takers along with the average scores, you should\n",
        "use this information in computing the exact average scores above.\n",
        "* Note 2: if a DBN in the SAT Results data set is not found in the High School Directory, you can safely ignore\n",
        "the test scores for that school.\n",
        "\n",
        "TASK 2:\n",
        "* We would like to know how the Math scores vary across bus lines or subway lines serving the schools. Compute the average Math scores of all schools along each bus line and subway line. You can find the\n",
        "bus and subway lines serving each school in the High School Dictionary as bus and subway columns.\n",
        "The expected results are two lists:\n",
        "1. A list of key/value pairs: with bus line as keys, and the average Math scores as values.\n",
        "2. A list of key/value pairs: with subway line as keys, and the average Math scores as values."
      ]
    },
    {
      "attachments": {},
      "cell_type": "markdown",
      "metadata": {
        "id": "P_5RV35CtCaB"
      },
      "source": [
        "## Environment Setup"
      ]
    },
    {
      "cell_type": "code",
      "execution_count": null,
      "metadata": {
        "colab": {
          "base_uri": "https://localhost:8080/"
        },
        "id": "bjzjcPWYnHLr",
        "outputId": "ba646ad2-c4ca-48b7-dd34-ec0a669eb3fe"
      },
      "outputs": [
        {
          "name": "stdout",
          "output_type": "stream",
          "text": [
            "\u001b[2K     \u001b[90m━━━━━━━━━━━━━━━━━━━━━━━━━━━━━━━━━━━━━━━\u001b[0m \u001b[32m281.4/281.4 MB\u001b[0m \u001b[31m4.6 MB/s\u001b[0m eta \u001b[36m0:00:00\u001b[0m\n",
            "\u001b[?25h  Preparing metadata (setup.py) ... \u001b[?25l\u001b[?25hdone\n",
            "\u001b[2K     \u001b[90m━━━━━━━━━━━━━━━━━━━━━━━━━━━━━━━━━━━━━━\u001b[0m \u001b[32m199.7/199.7 KB\u001b[0m \u001b[31m11.0 MB/s\u001b[0m eta \u001b[36m0:00:00\u001b[0m\n",
            "\u001b[?25h  Building wheel for pyspark (setup.py) ... \u001b[?25l\u001b[?25hdone\n"
          ]
        },
        {
          "data": {
            "text/plain": []
          },
          "execution_count": 1,
          "metadata": {},
          "output_type": "execute_result"
        }
      ],
      "source": [
        "%%shell\n",
        "gdown --quiet 1ay5DcH64Qao1HR7CQnR6Cl1hbBMgGqXj\n",
        "gdown --quiet 13BozEl3JtS43Xuu2Ek9IwMULpWjPH4VC\n",
        "gdown --quiet 1It6GP8O2JqkmUtZKbYp1kpwpuwOXlLps\n",
        "pip --quiet install pyspark"
      ]
    },
    {
      "cell_type": "code",
      "execution_count": null,
      "metadata": {
        "colab": {
          "base_uri": "https://localhost:8080/",
          "height": 216
        },
        "id": "XHKq10WXnZl7",
        "outputId": "da8d9975-bd41-42f8-e000-bf94bf3959b1"
      },
      "outputs": [
        {
          "data": {
            "text/html": [
              "\n",
              "            <div>\n",
              "                <p><b>SparkSession - in-memory</b></p>\n",
              "                \n",
              "        <div>\n",
              "            <p><b>SparkContext</b></p>\n",
              "\n",
              "            <p><a href=\"http://b16d060762c2:4040\">Spark UI</a></p>\n",
              "\n",
              "            <dl>\n",
              "              <dt>Version</dt>\n",
              "                <dd><code>v3.3.2</code></dd>\n",
              "              <dt>Master</dt>\n",
              "                <dd><code>local[*]</code></dd>\n",
              "              <dt>AppName</dt>\n",
              "                <dd><code>pyspark-shell</code></dd>\n",
              "            </dl>\n",
              "        </div>\n",
              "        \n",
              "            </div>\n",
              "        "
            ],
            "text/plain": [
              "<pyspark.sql.session.SparkSession at 0x7fc79d5f1160>"
            ]
          },
          "execution_count": 2,
          "metadata": {},
          "output_type": "execute_result"
        }
      ],
      "source": [
        "SAT_FN = 'SAT_Results.csv'\n",
        "HSD_FN = 'DOE_High_School_Directory_2014-2015.csv'\n",
        "ENRON_FN = 'enron_mails_small.csv'\n",
        "\n",
        "import pyspark\n",
        "from pyspark.sql import SparkSession\n",
        "sc = pyspark.SparkContext.getOrCreate()\n",
        "spark = SparkSession.builder.getOrCreate()\n",
        "spark"
      ]
    },
    {
      "attachments": {},
      "cell_type": "markdown",
      "metadata": {
        "id": "Viwi27S1xMpV"
      },
      "source": [
        "### A. Load **SAT Scores** Dataset without Header"
      ]
    },
    {
      "cell_type": "code",
      "execution_count": null,
      "metadata": {
        "colab": {
          "base_uri": "https://localhost:8080/",
          "height": 170
        },
        "id": "6_caGSrHpVJq",
        "outputId": "a6c03744-dec1-495b-aede-9fc1af1e27b7"
      },
      "outputs": [
        {
          "data": {
            "text/plain": [
              "[(0, 'DBN'),\n",
              " (1, 'SCHOOL NAME'),\n",
              " (2, 'Num of SAT Test Takers'),\n",
              " (3, 'SAT Critical Reading Avg. Score'),\n",
              " (4, 'SAT Math Avg. Score'),\n",
              " (5, 'SAT Writing Avg. Score')]"
            ]
          },
          "metadata": {},
          "output_type": "display_data"
        },
        {
          "data": {
            "text/plain": [
              "['02M047,47 THE AMERICAN SIGN LANGUAGE AND ENGLISH SECONDARY SCHOOL,16,395,400,387',\n",
              " '21K410,ABRAHAM LINCOLN HIGH SCHOOL,475,396,437,393',\n",
              " '21K412/21K411,ABRAHAM LINCOLN YABC/LEARNING TO WORK GED AT ABRAHAM LINCOLN,s,s,s,s']"
            ]
          },
          "execution_count": 3,
          "metadata": {},
          "output_type": "execute_result"
        }
      ],
      "source": [
        "# We read the SAT score to our RDD.\n",
        "sat = sc.textFile(SAT_FN, use_unicode=True).cache()\n",
        "satHeader = sat.first().split(',')\n",
        "A = sat.filter(lambda x: not x.startswith('DBN,SCHOOL'))\n",
        "\n",
        "# This line for us to list the column index and column names to see\n",
        "# which column we need to use for our task. In this case, we're\n",
        "# interested in the number of test takers (#2) and the math score (#4).\n",
        "display(list(enumerate(satHeader)))\n",
        "A.take(3)"
      ]
    },
    {
      "attachments": {},
      "cell_type": "markdown",
      "metadata": {
        "id": "foKWz_8Ay25v"
      },
      "source": [
        "### B. Extract `DBN`, `Num of SAT Test Takers` and `SAT Math Avg. Score` columns\n",
        "\n",
        "Here is a different approach to read the SAT score file using `map()` instead of `mapPartitionsWithIndex()`. Please note the use of `csv.reader` with a single input line."
      ]
    },
    {
      "cell_type": "code",
      "execution_count": null,
      "metadata": {
        "colab": {
          "base_uri": "https://localhost:8080/"
        },
        "id": "0Jem4hsNpfQr",
        "outputId": "86adf5f1-efb8-4a47-b160-b46f1d1feda2"
      },
      "outputs": [
        {
          "data": {
            "text/plain": [
              "[('02M047', (16, 400)), ('21K410', (475, 437)), ('30Q301', (98, 440))]"
            ]
          },
          "execution_count": 4,
          "metadata": {},
          "output_type": "execute_result"
        }
      ],
      "source": [
        "import csv\n",
        "\n",
        "B = A.map(lambda x: next(csv.reader([x]))) \\\n",
        "    .filter(lambda x: x[2]!='s') \\\n",
        "    .map(lambda x: (x[0], (int(x[2]), int(x[4]))))\n",
        "\n",
        "B.take(3)"
      ]
    },
    {
      "attachments": {},
      "cell_type": "markdown",
      "metadata": {
        "id": "a6yKREbm1Pjt"
      },
      "source": [
        "### C. Load **High School Directory** Dataset and check its header"
      ]
    },
    {
      "cell_type": "code",
      "execution_count": null,
      "metadata": {
        "colab": {
          "base_uri": "https://localhost:8080/"
        },
        "id": "7tuDGRXcphca",
        "outputId": "71433ce6-eb1f-4afc-84c1-a9d4be007f35"
      },
      "outputs": [
        {
          "data": {
            "text/plain": [
              "[(0, 'dbn'),\n",
              " (1, 'school_name'),\n",
              " (2, 'boro'),\n",
              " (3, 'building_code'),\n",
              " (4, 'phone_number'),\n",
              " (5, 'fax_number'),\n",
              " (6, 'grade_span_min'),\n",
              " (7, 'grade_span_max'),\n",
              " (8, 'expgrade_span_min'),\n",
              " (9, 'expgrade_span_max'),\n",
              " (10, 'bus'),\n",
              " (11, 'subway'),\n",
              " (12, 'primary_address_line_1'),\n",
              " (13, 'city'),\n",
              " (14, 'state_code'),\n",
              " (15, 'zip'),\n",
              " (16, 'website'),\n",
              " (17, 'total_students'),\n",
              " (18, 'campus_name'),\n",
              " (19, 'school_type'),\n",
              " (20, 'overview_paragraph'),\n",
              " (21, 'program_highlights'),\n",
              " (22, 'language_classes'),\n",
              " (23, 'advancedplacement_courses'),\n",
              " (24, 'online_ap_courses'),\n",
              " (25, 'online_language_courses'),\n",
              " (26, 'extracurricular_activities'),\n",
              " (27, 'psal_sports_boys'),\n",
              " (28, 'psal_sports_girls'),\n",
              " (29, 'psal_sports_coed'),\n",
              " (30, 'school_sports'),\n",
              " (31, 'partner_cbo'),\n",
              " (32, 'partner_hospital'),\n",
              " (33, 'partner_highered'),\n",
              " (34, 'partner_cultural'),\n",
              " (35, 'partner_nonprofit'),\n",
              " (36, 'partner_corporate'),\n",
              " (37, 'partner_financial'),\n",
              " (38, 'partner_other'),\n",
              " (39, 'addtl_info1'),\n",
              " (40, 'addtl_info2'),\n",
              " (41, 'start_time'),\n",
              " (42, 'end_time'),\n",
              " (43, 'se_services'),\n",
              " (44, 'ell_programs'),\n",
              " (45, 'school_accessibility_description'),\n",
              " (46, 'number_programs'),\n",
              " (47, 'priority01'),\n",
              " (48, 'priority02'),\n",
              " (49, 'priority03'),\n",
              " (50, 'priority04'),\n",
              " (51, 'priority05'),\n",
              " (52, 'priority06'),\n",
              " (53, 'priority07'),\n",
              " (54, 'priority08'),\n",
              " (55, 'priority09'),\n",
              " (56, 'priority10'),\n",
              " (57, 'Location 1')]"
            ]
          },
          "execution_count": 5,
          "metadata": {},
          "output_type": "execute_result"
        }
      ],
      "source": [
        "# Here we do the same thing with the school directory data\n",
        "C = sc.textFile(HSD_FN, use_unicode=True).cache()\n",
        "hsdHeader = C.first().split(',')\n",
        "list(enumerate(hsdHeader))"
      ]
    },
    {
      "attachments": {},
      "cell_type": "markdown",
      "metadata": {
        "id": "ew1QtSG6EULL"
      },
      "source": [
        "### D. Extract `DBN`, `bus` and `subway` columns from the HSD data"
      ]
    },
    {
      "cell_type": "code",
      "execution_count": null,
      "metadata": {
        "colab": {
          "base_uri": "https://localhost:8080/"
        },
        "id": "M0KjPdzRpkMK",
        "outputId": "c5fef028-4076-425e-c104-cbf1e50b8064"
      },
      "outputs": [
        {
          "data": {
            "text/plain": [
              "[('01M292',\n",
              "  'B39, M14A, M14D, M15, M15-SBS, M21, M22, M9',\n",
              "  'B, D to Grand St ; F to East Broadway ; J, M, Z to Delancey St-Essex St'),\n",
              " ('01M448',\n",
              "  'M14A, M14D, M15, M21, M22, M9',\n",
              "  'F to East Broadway ; J, M, Z to Delancey St-Essex St'),\n",
              " ('01M450',\n",
              "  'M101, M102, M103, M14A, M14D, M15, M15-SBS, M2, M23, M3, M8, M9',\n",
              "  '6 to Astor Place ; L to 1st Ave'),\n",
              " ('01M509',\n",
              "  'B39, M103, M14A, M14D, M15, M15-SBS, M21, M22, M8, M9',\n",
              "  'B, D to Grand St ; F, J, M, Z to Delancey St-Essex St'),\n",
              " ('01M539',\n",
              "  'B39, M14A, M14D, M21, M22, M8, M9',\n",
              "  'F, J, M, Z to Delancey St-Essex St')]"
            ]
          },
          "execution_count": 6,
          "metadata": {},
          "output_type": "execute_result"
        }
      ],
      "source": [
        "# Complete the extractFeatures function to get the desire output\n",
        "def extractFeatures(partId, rows):\n",
        "    #skip first row, which are the feature names \n",
        "    if partId == 0: \n",
        "      next(rows)\n",
        "    \n",
        "    #importing csv to read text data \n",
        "    import csv\n",
        "    reader = csv.reader(rows)\n",
        "    #looping through each row of the csv.reader results\n",
        "    for row in reader:\n",
        "      #check if there are no null values \n",
        "      if (len(row) == 58 and row[10]!='NA' and row[11]!='NA'):\n",
        "        #yield the rows that we want \n",
        "        yield (row[0],row[10],row[11])\n",
        "\n",
        "\n",
        "### DO NOT EDIT BELOW\n",
        "D = C.mapPartitionsWithIndex(extractFeatures)\n",
        "D.take(5)"
      ]
    },
    {
      "attachments": {},
      "cell_type": "markdown",
      "metadata": {
        "id": "boijlIy-FKUD"
      },
      "source": [
        "### E. Convert the bus and subway description into the list of bus and subway lines\n",
        "\n",
        "For the subway, we do not care about the direction of the lines, e.g. `B, D to Grand St` should be treated as just `B, D`."
      ]
    },
    {
      "cell_type": "code",
      "execution_count": null,
      "metadata": {
        "id": "Tff0dn8bhtWI"
      },
      "outputs": [],
      "source": [
        "#function for converting string of direction of lines to just subway lines\n",
        "def funcE(row):\n",
        "  from functools import reduce\n",
        "  return list(map(lambda x: x[0],reduce(lambda x,y: x+y,list(map(lambda x: x.split(', '),row.split(' ; '))),[])))"
      ]
    },
    {
      "cell_type": "code",
      "execution_count": null,
      "metadata": {
        "colab": {
          "base_uri": "https://localhost:8080/"
        },
        "id": "-M6NGVuEh6Q8",
        "outputId": "be5b6b1f-43da-463a-92b8-8f6993d17729"
      },
      "outputs": [
        {
          "data": {
            "text/plain": [
              "['B', 'D', 'F', 'J', 'M', 'Z']"
            ]
          },
          "execution_count": 8,
          "metadata": {},
          "output_type": "execute_result"
        }
      ],
      "source": [
        "#Testing Code \n",
        "row = 'B, D to Grand St ; F to East Broadway ; J, M, Z to Delancey St-Essex St'\n",
        "funcE(row)"
      ]
    },
    {
      "cell_type": "code",
      "execution_count": null,
      "metadata": {
        "colab": {
          "base_uri": "https://localhost:8080/"
        },
        "id": "igGXWQDzFj8W",
        "outputId": "7012b3e5-2796-4adc-a7fe-66c8752cc527"
      },
      "outputs": [
        {
          "data": {
            "text/plain": [
              "[('01M292',\n",
              "  (['B39', 'M14A', 'M14D', 'M15', 'M15-SBS', 'M21', 'M22', 'M9'],\n",
              "   ['B', 'D', 'F', 'J', 'M', 'Z'])),\n",
              " ('01M448',\n",
              "  (['M14A', 'M14D', 'M15', 'M21', 'M22', 'M9'], ['F', 'J', 'M', 'Z'])),\n",
              " ('01M450',\n",
              "  (['M101',\n",
              "    'M102',\n",
              "    'M103',\n",
              "    'M14A',\n",
              "    'M14D',\n",
              "    'M15',\n",
              "    'M15-SBS',\n",
              "    'M2',\n",
              "    'M23',\n",
              "    'M3',\n",
              "    'M8',\n",
              "    'M9'],\n",
              "   ['6', 'L'])),\n",
              " ('01M509',\n",
              "  (['B39', 'M103', 'M14A', 'M14D', 'M15', 'M15-SBS', 'M21', 'M22', 'M8', 'M9'],\n",
              "   ['B', 'D', 'F', 'J', 'M', 'Z'])),\n",
              " ('01M539',\n",
              "  (['B39', 'M14A', 'M14D', 'M21', 'M22', 'M8', 'M9'], ['F', 'J', 'M', 'Z']))]"
            ]
          },
          "execution_count": 9,
          "metadata": {},
          "output_type": "execute_result"
        }
      ],
      "source": [
        "# Derive E from above\n",
        "E = D.map(lambda x: (x[0],(x[1].split(', '),funcE(x[2]))))\n",
        "\n",
        "### DO NOT EDIT BELOW\n",
        "E.take(5)"
      ]
    },
    {
      "attachments": {},
      "cell_type": "markdown",
      "metadata": {
        "id": "jBQe55oMG4Qb"
      },
      "source": [
        "### F. Join `B` (SAT) and `E`(HSD) datasets so that the score is together with the list of bus lines and subway lines.\n",
        "\n",
        "We no longer need to the DBN information after this."
      ]
    },
    {
      "cell_type": "code",
      "execution_count": null,
      "metadata": {
        "colab": {
          "base_uri": "https://localhost:8080/"
        },
        "id": "PJhzlRvuHKjT",
        "outputId": "7cd07052-b8f1-4b25-e6d4-dc769a22ad4c"
      },
      "outputs": [
        {
          "data": {
            "text/plain": [
              "[((59, 374),\n",
              "  (['B12', 'B16', 'B35', 'B41', 'B44', 'B49'], ['2', '5', 'B', 'Q'])),\n",
              " ((135, 492),\n",
              "  (['B62',\n",
              "    'Q100',\n",
              "    'Q101',\n",
              "    'Q102',\n",
              "    'Q103',\n",
              "    'Q32',\n",
              "    'Q39',\n",
              "    'Q60',\n",
              "    'Q66',\n",
              "    'Q67',\n",
              "    'Q69'],\n",
              "   ['7', 'N', 'Q', 'E', 'M', 'R', 'F', 'G'])),\n",
              " ((228, 456),\n",
              "  (['Bx15',\n",
              "    'Bx19',\n",
              "    'Bx33',\n",
              "    'M10',\n",
              "    'M100',\n",
              "    'M101',\n",
              "    'M104',\n",
              "    'M11',\n",
              "    'M2',\n",
              "    'M3',\n",
              "    'M4',\n",
              "    'M5'],\n",
              "   ['1', 'A', 'D', 'B', 'C'])),\n",
              " ((270, 441),\n",
              "  (['M101', 'M102', 'M15', 'M2', 'M31', 'M50', 'M57', 'Q101', 'Q32', 'Q60'],\n",
              "   ['4', '5', '6', 'N', 'Q', 'R', '6', 'E', 'M', 'F'])),\n",
              " ((60, 391), (['Bx12', 'Bx12-SBS', 'Bx26', 'Bx39', 'Bx8'], ['2', '5']))]"
            ]
          },
          "execution_count": 10,
          "metadata": {},
          "output_type": "execute_result"
        }
      ],
      "source": [
        "F = B.join(E).values()\n",
        "F.take(5)"
      ]
    },
    {
      "attachments": {},
      "cell_type": "markdown",
      "metadata": {
        "id": "SD__1QUdH49b"
      },
      "source": [
        "### G. Group the scores by the subway line and bus line so that we can compute the average by line\n",
        "Note that, one school may belong to multiple lines, so we need to somehow replicate the school score for each bus line. The output of this step should be in the key/value pair format with the key is the line, and the value is the average score.\n",
        "\n",
        "To make it easier, please store the bus and subway data in `G_bus` and `G_subway` respectively."
      ]
    },
    {
      "cell_type": "code",
      "execution_count": null,
      "metadata": {
        "id": "Zb8FUJFIlul5"
      },
      "outputs": [],
      "source": [
        "#function for taking a tuple of list of transporation and a tuple of number of test takers and score, \n",
        "#then returning list of tuples of each transp and a tuple of takers and scores\n",
        "def funcG_trans_num_scores(tup):\n",
        "  transpList,num_score = tup\n",
        "  return list(map(lambda x: (x,num_score) ,transpList))\n"
      ]
    },
    {
      "cell_type": "code",
      "execution_count": null,
      "metadata": {
        "colab": {
          "base_uri": "https://localhost:8080/"
        },
        "id": "vKR0IvzImGde",
        "outputId": "5f00bb52-7152-4fbd-a078-274cd20c2f3d"
      },
      "outputs": [
        {
          "data": {
            "text/plain": [
              "[('A', (25, 500)), ('B', (25, 500))]"
            ]
          },
          "execution_count": 12,
          "metadata": {},
          "output_type": "execute_result"
        }
      ],
      "source": [
        "#testing funcG\n",
        "funcG_trans_num_scores((['A','B'],(25,500)))"
      ]
    },
    {
      "cell_type": "code",
      "execution_count": null,
      "metadata": {
        "id": "hjnK1rknXwvM"
      },
      "outputs": [],
      "source": [
        "#function for calculating the average from a tuple of number of test takers and the average sat score for those takers \n",
        "def funcG_avg(nums_scores):\n",
        "  #separate nums and scores \n",
        "  nums, scores = zip(*nums_scores)\n",
        "  #calculate the total score by multplying the number of takers and average score \n",
        "  tot_score = sum(map(lambda x,y: x*y,nums,scores))\n",
        "  #total number of test takers \n",
        "  tot_nums = sum(nums)\n",
        "  #return average \n",
        "  return tot_score/tot_nums"
      ]
    },
    {
      "cell_type": "code",
      "execution_count": null,
      "metadata": {
        "colab": {
          "base_uri": "https://localhost:8080/"
        },
        "id": "KwZFFcwWXMEw",
        "outputId": "872fdf36-b6bf-4be4-8532-9dcd07eed0d2"
      },
      "outputs": [
        {
          "data": {
            "text/plain": [
              "35.0"
            ]
          },
          "execution_count": 14,
          "metadata": {},
          "output_type": "execute_result"
        }
      ],
      "source": [
        "funcG_avg([(10,20),(10,50)])"
      ]
    },
    {
      "cell_type": "code",
      "execution_count": null,
      "metadata": {
        "colab": {
          "base_uri": "https://localhost:8080/",
          "height": 187
        },
        "id": "XOpN3fWJi-AR",
        "outputId": "db0469f1-8017-4b8f-86f4-e1c076ecee43"
      },
      "outputs": [
        {
          "data": {
            "text/plain": [
              "[('B44', 465.0336676217765),\n",
              " ('Q66', 461.55149181905676),\n",
              " ('Q69', 444.03056234718827),\n",
              " ('M100', 427.83587443946186),\n",
              " ('M3', 432.531451213472)]"
            ]
          },
          "metadata": {},
          "output_type": "display_data"
        },
        {
          "data": {
            "text/plain": [
              "[('N', 483.49450806263144),\n",
              " ('4', 495.29238227146817),\n",
              " ('L', 426.3222871994802),\n",
              " ('J', 439.1299656694458),\n",
              " ('B', 491.95760524225574)]"
            ]
          },
          "metadata": {},
          "output_type": "display_data"
        }
      ],
      "source": [
        "# Create G_bus and G_subway here as RDDs\n",
        "G_bus = F.map(lambda x: (x[1][0],x[0])) \\\n",
        "  .flatMap(funcG_trans_num_scores) \\\n",
        "  .groupByKey() \\\n",
        "  .mapValues(funcG_avg)\n",
        "\n",
        "G_subway = F.map(lambda x: (x[1][1],x[0])) \\\n",
        "  .flatMap(funcG_trans_num_scores) \\\n",
        "  .groupByKey() \\\n",
        "  .mapValues(funcG_avg)\n",
        "\n",
        "## DO NOT EDIT BELOW\n",
        "display(G_bus.take(5))\n",
        "display(G_subway.take(5))"
      ]
    },
    {
      "attachments": {},
      "cell_type": "markdown",
      "metadata": {
        "id": "JwaJJH0QJ-us"
      },
      "source": [
        "### H. Get the line with the highest score"
      ]
    },
    {
      "cell_type": "code",
      "execution_count": null,
      "metadata": {
        "colab": {
          "base_uri": "https://localhost:8080/",
          "height": 51
        },
        "id": "In-cCBlGqwEZ",
        "outputId": "60a026a3-a879-4a21-e9af-13c201e59625"
      },
      "outputs": [
        {
          "data": {
            "text/plain": [
              "('S1115', 612.2545811518324)"
            ]
          },
          "metadata": {},
          "output_type": "display_data"
        },
        {
          "data": {
            "text/plain": [
              "('3', 513.4009556313994)"
            ]
          },
          "metadata": {},
          "output_type": "display_data"
        }
      ],
      "source": [
        "display(G_bus.max(lambda x: x[1]))\n",
        "display(G_subway.max(lambda x: x[1]))"
      ]
    }
  ],
  "metadata": {
    "colab": {
      "provenance": []
    },
    "kernelspec": {
      "display_name": "Python 3",
      "name": "python3"
    }
  },
  "nbformat": 4,
  "nbformat_minor": 0
}
